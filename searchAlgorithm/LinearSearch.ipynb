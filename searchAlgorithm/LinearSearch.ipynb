{
  "nbformat": 4,
  "nbformat_minor": 0,
  "metadata": {
    "colab": {
      "name": "LinearSearch.ipynb",
      "provenance": []
    },
    "kernelspec": {
      "name": "python3",
      "display_name": "Python 3"
    },
    "language_info": {
      "name": "python"
    }
  },
  "cells": [
    {
      "cell_type": "code",
      "execution_count": null,
      "metadata": {
        "colab": {
          "base_uri": "https://localhost:8080/"
        },
        "id": "p32HI3cUg0nZ",
        "outputId": "038ce8cb-f598-4386-d74d-56a48f0fef4f"
      },
      "outputs": [
        {
          "output_type": "stream",
          "name": "stdout",
          "text": [
            "Randomly generated array is: [44 21 93  7 49]\n",
            "What would you like to search? 55\n",
            "Element(55) not found.\n"
          ]
        }
      ],
      "source": [
        "# Linear Search\n",
        "\n",
        "from numpy import random\n",
        "\n",
        "input_array = random.randint(100, size=(5))\n",
        "\n",
        "print(f\"Randomly generated array is: {input_array}\")\n",
        "\n",
        "dataToSearch = int(input(\"What would you like to search? \"))\n",
        "\n",
        "flag = 0\n",
        "\n",
        "for i in range(0, len(input_array)):\n",
        "  if (input_array[i] == dataToSearch):\n",
        "    print(f\"Element({dataToSearch}) found at index: {i}.\")\n",
        "    flag = 1\n",
        "    break\n",
        "\n",
        "if (flag == 0):\n",
        "  print(f\"Element({dataToSearch}) not found.\")\n",
        "\n",
        "\n",
        "\n",
        "\n",
        "\n",
        "\n",
        "\n",
        "\n",
        "\n",
        "\n",
        "\n",
        "\n",
        "\n",
        "# # Searching an element in a list/array in python\n",
        "# # can be simply done using \\'in\\' operator\n",
        "# # Example:\n",
        "# # if x in arr:\n",
        "# # print arr.index(x)\n",
        "\n",
        "# # If you want to implement Linear Search in python\n",
        "\n",
        "# # Linearly search x in arr[]\n",
        "# # If x is present then return its location\n",
        "# # else return -1\n",
        "\n",
        "# def search(arr, x):\n",
        "\n",
        "# \tfor i in range(len(arr)):\n",
        "\n",
        "# \t\tif arr[i] == x:\n",
        "# \t\t\treturn i\n",
        "\n",
        "# \treturn -1\n"
      ]
    },
    {
      "cell_type": "code",
      "source": [
        ""
      ],
      "metadata": {
        "id": "zHbp7KM7iR9V"
      },
      "execution_count": null,
      "outputs": []
    }
  ]
}