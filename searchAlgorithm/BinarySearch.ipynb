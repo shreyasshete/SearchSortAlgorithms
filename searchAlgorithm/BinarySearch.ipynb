{
  "nbformat": 4,
  "nbformat_minor": 0,
  "metadata": {
    "colab": {
      "name": "BinarySearch.ipynb",
      "provenance": [],
      "collapsed_sections": []
    },
    "kernelspec": {
      "name": "python3",
      "display_name": "Python 3"
    },
    "language_info": {
      "name": "python"
    }
  },
  "cells": [
    {
      "cell_type": "code",
      "execution_count": null,
      "metadata": {
        "colab": {
          "base_uri": "https://localhost:8080/"
        },
        "id": "gEm47436LS5e",
        "outputId": "f7dd5cd6-e5f3-4f52-9b14-c12993d13c4b"
      },
      "outputs": [
        {
          "output_type": "stream",
          "name": "stdout",
          "text": [
            "Randomly generated array is: [38 33 88 46 67]\n",
            "\n",
            "For Binary serach algorithm to work we need to sort the array first.\n",
            "Randomly generated array after sorting is: [33 38 46 67 88]\n",
            "What would you like to search? 33\n",
            "Element (33) is found in the index: 0.\n"
          ]
        }
      ],
      "source": [
        "# Binary Search of Sorted array\n",
        "\n",
        "\n",
        "from numpy import random\n",
        "\n",
        "random_array = random.randint(100, size=(5))\n",
        "\n",
        "print(f\"Randomly generated array is: {random_array}\\n\\nFor Binary serach algorithm to work we need to sort the array first.\")\n",
        "\n",
        "random_array.sort()\n",
        "\n",
        "print(f\"Randomly generated array after sorting is: {random_array}\")\n",
        "\n",
        "\n",
        "def binarySearch(random_array, dataToSearch):\n",
        "  left = 0\n",
        "  right = len(random_array) - 1\n",
        "\n",
        "  while left < right:\n",
        "    mid = (left + right) // 2\n",
        "    \n",
        "    if(dataToSearch == random_array[mid]):\n",
        "      return mid\n",
        "    \n",
        "    elif(dataToSearch < random_array[mid]):\n",
        "      right = mid - 1\n",
        "\n",
        "    else:\n",
        "      left = mid + 1\n",
        "\n",
        "  return -1\n",
        "\n",
        "\n",
        "dataToSearch = int(input(\"What would you like to search? \"))\n",
        "\n",
        "output_value = binarySearch(random_array, dataToSearch)\n",
        "\n",
        "if output_value == -1:\n",
        "  print(f\"Element ({dataToSearch}) is not found in the array.\")\n",
        "else:\n",
        "  print(f\"Element ({dataToSearch}) is found in the index: {output_value}.\")\n",
        "\n",
        "\n",
        "\n",
        "# # Iterative Binary Search Function\n",
        "# # It returns index of x in given array arr if present,\n",
        "# # else returns -1\n",
        "# def binary_search(arr, x):\n",
        "# \tlow = 0\n",
        "# \thigh = len(arr) - 1\n",
        "# \tmid = 0\n",
        "\n",
        "# \twhile low <= high:\n",
        "\n",
        "# \t\tmid = (high + low) // 2\n",
        "\n",
        "# \t\t# If x is greater, ignore left half\n",
        "# \t\tif arr[mid] < x:\n",
        "# \t\t\tlow = mid + 1\n",
        "\n",
        "# \t\t# If x is smaller, ignore right half\n",
        "# \t\telif arr[mid] > x:\n",
        "# \t\t\thigh = mid - 1\n",
        "\n",
        "# \t\t# means x is present at mid\n",
        "# \t\telse:\n",
        "# \t\t\treturn mid\n",
        "\n",
        "# \t# If we reach here, then the element was not present\n",
        "# \treturn -1\n",
        "\n",
        "\n",
        "# # Test array\n",
        "# arr = [ 2, 3, 4, 10, 40 ]\n",
        "# x = 10\n",
        "\n",
        "# # Function call\n",
        "# result = binary_search(arr, x)\n",
        "\n",
        "# if result != -1:\n",
        "# \tprint(\"Element is present at index\", str(result))\n",
        "# else:\n",
        "# \tprint(\"Element is not present in array\")\n"
      ]
    }
  ]
}