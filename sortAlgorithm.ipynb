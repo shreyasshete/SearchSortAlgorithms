{
 "cells": [
  {
   "cell_type": "code",
   "execution_count": 248,
   "metadata": {
    "id": "lisGU37lSXOI"
   },
   "outputs": [],
   "source": [
    "# Importing Libraries\n",
    "\n",
    "import sys\n",
    "import timeit\n",
    "import time as t\n",
    "import matplotlib.pyplot as plt\n",
    "import numpy as np\n",
    "from numpy import random"
   ]
  },
  {
   "cell_type": "code",
   "execution_count": 249,
   "metadata": {
    "id": "ku8xPStOSbqe"
   },
   "outputs": [],
   "source": [
    "# Merge Sort Algorithm\n",
    "def mergeSort(arr):\n",
    "    if len(arr) > 1:\n",
    " \n",
    "         # Finding the middleindex of the array\n",
    "        middleindex = len(arr)//2\n",
    " \n",
    "        # Dividing the array elements into 2 halves\n",
    "        Lft = arr[:middleindex]\n",
    "        Rght = arr[middleindex:]\n",
    " \n",
    "        # Sorting the first half\n",
    "        mergeSort(Lft)\n",
    " \n",
    "        # Sorting the second half\n",
    "        mergeSort(Rght)\n",
    " \n",
    "        i = j = k = 0\n",
    "\n",
    "        while i < len(Lft) and j < len(Rght):\n",
    "            if Lft[i] < Rght[j]:\n",
    "                arr[k] = Lft[i]\n",
    "                i += 1\n",
    "            else:\n",
    "                arr[k] = Rght[j]\n",
    "                j += 1\n",
    "            k += 1\n",
    "        while i < len(Lft):\n",
    "            arr[k] = Lft[i]\n",
    "            i += 1\n",
    "            k += 1\n",
    " \n",
    "        while j < len(Rght):\n",
    "            arr[k] = Rght[j]\n",
    "            j += 1\n",
    "            k += 1\n",
    " "
   ]
  },
  {
   "cell_type": "code",
   "execution_count": 250,
   "metadata": {
    "id": "RbgPA9VaTNhJ"
   },
   "outputs": [],
   "source": [
    "# Heap Sort Algorithm\n",
    "def heapify(arr, n, i):\n",
    "\tlargest = i\n",
    "\tl = 2 * i + 1\n",
    "\tr = 2 * i + 2\n",
    "\tif l < n and arr[i] < arr[l]:\n",
    "\t\tlargest = l\n",
    "\tif r < n and arr[largest] < arr[r]:\n",
    "\t\tlargest = r\n",
    "\tif largest != i:\n",
    "\t\tarr[i],arr[largest] = arr[largest],arr[i]\n",
    "\t\theapify(arr, n, largest)\n",
    "def heapSort(arr):\n",
    "\tn = len(arr)\n",
    "\tfor i in range(n // 2 - 1, -1, -1):\n",
    "\t\theapify(arr, n, i)\n",
    "\tfor i in range(n-1, 0, -1):\n",
    "\t\tarr[i], arr[0] = arr[0], arr[i] # swap\n",
    "\t\theapify(arr, i, 0)\n",
    "\t"
   ]
  },
  {
   "cell_type": "code",
   "execution_count": 251,
   "metadata": {
    "id": "L3JbiNkNTTFV"
   },
   "outputs": [],
   "source": [
    "# Regular Quick Sort\n",
    "def partitioning(array, low, high):\n",
    "  pivot = array[high]\n",
    "  i = low - 1\n",
    "  for j in range(low, high):\n",
    "\t  if array[j] <= pivot:\n",
    "\t    i = i + 1\n",
    "\t    (array[i], array[j]) = (array[j], array[i])\n",
    "  (array[i + 1], array[high]) = (array[high], array[i + 1])\n",
    "  return i + 1\n",
    "def quick_sort(regularArray, low, high):\n",
    "  if low < high:\n",
    "\t  pi = partitioning(regularArray, low, high)\n",
    "\t  quick_sort(regularArray, low, pi - 1)\n",
    "\t  quick_sort(regularArray, pi + 1, high)"
   ]
  },
  {
   "cell_type": "code",
   "execution_count": 252,
   "metadata": {
    "id": "A6Yq-PO3TYTl"
   },
   "outputs": [],
   "source": [
    "# 3-Way Quick Sort\n",
    "\n",
    "def partition(arr, first, last, start, mid):\n",
    "\t\n",
    "\tpivot = arr[last]\n",
    "\tend = last\n",
    "\twhile (mid[0] <= end):\n",
    "\t\tif (arr[mid[0]] < pivot):\n",
    "\t\t\tarr[mid[0]], arr[start[0]] = arr[start[0]], arr[mid[0]]\t\t\t\n",
    "\t\t\tmid[0] = mid[0] + 1\n",
    "\t\t\tstart[0] = start[0] + 1\n",
    "\n",
    "\t\telif (arr[mid[0]] > pivot):\n",
    "\t\t\tarr[mid[0]], arr[end] = arr[end], arr[mid[0]]\n",
    "\t\t\tend = end - 1\n",
    "\t\telse:\n",
    "\t\t\tmid[0] = mid[0] + 1\n",
    "\n",
    "def quicksort(arr,first,last):\n",
    "\tif (first >= last):\n",
    "\t\treturn\n",
    "\n",
    "\tif (last == first + 1):\n",
    "\t\t\n",
    "\t\tif (arr[first] > arr[last]):\n",
    "\t\t\t\n",
    "\t\t\tarr[first], arr[last] = arr[last], arr[first]\n",
    "\t\t\t\n",
    "\t\t\treturn\n",
    "\n",
    "\tstart = [first]\n",
    "\tmid = [first]\n",
    "\tpartition(arr, first, last, start, mid)\n",
    "\tquicksort(arr, first, start[0] - 1)\n",
    "\tquicksort(arr, mid[0], last)\n",
    "\n"
   ]
  },
  {
   "cell_type": "code",
   "execution_count": 253,
   "metadata": {
    "id": "TYF-kt5ATdgX"
   },
   "outputs": [],
   "source": [
    "# Insertion Sort\n",
    "\n",
    "def insertionSort(arr):\n",
    "    for i in range(1, len(arr)):\n",
    "        key = arr[i]\n",
    "        j = i-1\n",
    "        while j >= 0 and key < arr[j] :\n",
    "                arr[j + 1] = arr[j]\n",
    "                j -= 1\n",
    "        arr[j + 1] = key\n",
    " "
   ]
  },
  {
   "cell_type": "code",
   "execution_count": 254,
   "metadata": {
    "id": "YLOpj8XZTkE9"
   },
   "outputs": [],
   "source": [
    "# Selection Sort\n",
    "\n",
    "def selectionSort(arr):\n",
    "  for i in range(len(arr)):\n",
    "\t  min_idx = i\n",
    "\t  for j in range(i+1, len(arr)):\n",
    "\t\t  if arr[min_idx] > arr[j]:\n",
    "\t\t\t  min_idx = j\n",
    "\t  arr[i], arr[min_idx] = arr[min_idx], arr[i]\n"
   ]
  },
  {
   "cell_type": "code",
   "execution_count": 255,
   "metadata": {
    "id": "JIpJFifhTuKr"
   },
   "outputs": [],
   "source": [
    "# Bubble Sort Algorithm\n",
    "def bubbleSort(arr):\n",
    "\tn = len(arr)\n",
    "\tfor i in range(n):\n",
    "\t\tfor j in range(0, n-i-1):\n",
    "\t\t\tif arr[j] > arr[j+1]:\n",
    "\t\t\t\tarr[j], arr[j+1] = arr[j+1], arr[j]"
   ]
  },
  {
   "cell_type": "code",
   "execution_count": 256,
   "metadata": {
    "colab": {
     "base_uri": "https://localhost:8080/"
    },
    "id": "C42CqaZkT2Vd",
    "outputId": "dbea0e73-669f-4102-8680-cf9b98b93841"
   },
   "outputs": [
    {
     "name": "stdout",
     "output_type": "stream",
     "text": [
      "Enter number of elements in the array: 5\n",
      "Do you want computer to generate the array? (Y/N): Y\n",
      "[139 153 163 334 912]\n",
      "\n",
      "Given array is\n",
      "[139, 153, 163, 334, 912]\n",
      "\n",
      "\n"
     ]
    }
   ],
   "source": [
    "# Main Code to pass input \n",
    "arr=[]        \n",
    "n = int(input(\"Enter number of elements in the array: \"))\n",
    "arrayPreference = input(\"Do you want computer to generate the array? (Y/N): \")\n",
    "if arrayPreference == 'Y' or arrayPreference == 'y':\n",
    "  input_List = random.randint(1000, size=(n))\n",
    "  print(input_List)\n",
    "  for i in range(0, len(input_List)):\n",
    "    ele = int(input_List[i])\n",
    "    arr.append(ele)\n",
    "elif arrayPreference == 'N' or arrayPreference == 'n':\n",
    "  print (\"Enter the array\")\n",
    "  for i in range(0, n):\n",
    "      ele = int(input())\n",
    "      arr.append(ele)\n",
    "else:\n",
    "\tprint(\"Invalid Input!\\nStart over the program again!\")\n",
    "\tsys.exit(\"Ending Program\")\n",
    "\n",
    "print (\"\\nGiven array is\", end=\"\\n\")\n",
    "print(arr)\n",
    "mergeSortArray = arr\n",
    "heapSortArray = arr\n",
    "regularArray = arr\n",
    "threeWayQSArray = arr\n",
    "insertionSortArray = arr\n",
    "selectionSortArray = arr\n",
    "bubbleSortArray = arr\n",
    "print('\\n')"
   ]
  },
  {
   "cell_type": "code",
   "execution_count": 257,
   "metadata": {
    "colab": {
     "base_uri": "https://localhost:8080/"
    },
    "id": "cLbxb3FgT7ha",
    "outputId": "126aca51-f25c-474c-c333-0e4e007176f1"
   },
   "outputs": [
    {
     "name": "stdout",
     "output_type": "stream",
     "text": [
      "Sorted array by Merge Sort is:\t\t\t\n",
      "[139, 153, 163, 334, 912]\n"
     ]
    }
   ],
   "source": [
    "# Merge Sort Run\n",
    "mergerSortstart = timeit.default_timer()\n",
    "mergeSort(mergeSortArray)\n",
    "print (\"Sorted array by Merge Sort is:\\t\\t\\t\")\n",
    "print(mergeSortArray)\n",
    "mergerSortstop = timeit.default_timer()  "
   ]
  },
  {
   "cell_type": "code",
   "execution_count": 258,
   "metadata": {
    "colab": {
     "base_uri": "https://localhost:8080/"
    },
    "id": "LhECHg7LUDdw",
    "outputId": "cae1e720-ffef-484a-9a2b-e8d2b4e53cc4"
   },
   "outputs": [
    {
     "name": "stdout",
     "output_type": "stream",
     "text": [
      "Sorted array by Heap Sort is:\t\t\t\n",
      "[139, 153, 163, 334, 912]\n"
     ]
    }
   ],
   "source": [
    "# Heap Sort Run\n",
    "heapSortstart = timeit.default_timer()\n",
    "heapSort(heapSortArray)\n",
    "print (\"Sorted array by Heap Sort is:\\t\\t\\t\")\n",
    "print(heapSortArray)\n",
    "heapSortstop = timeit.default_timer()   "
   ]
  },
  {
   "cell_type": "code",
   "execution_count": 259,
   "metadata": {
    "colab": {
     "base_uri": "https://localhost:8080/"
    },
    "id": "UFtSicVXUIH2",
    "outputId": "f4b996d5-b38d-4cbc-9430-6dbd368a3031"
   },
   "outputs": [
    {
     "name": "stdout",
     "output_type": "stream",
     "text": [
      "Sorted array by Regular Quick Sort is:\t\t\t\n",
      "[139, 153, 163, 334, 912]\n"
     ]
    }
   ],
   "source": [
    "# Regular Quick Sort Run\n",
    "quick_sortStart = timeit.default_timer()\n",
    "quick_sort(regularArray, 0, len(regularArray)-1)             #passing the array to be sorted through function\n",
    "print (\"Sorted array by Regular Quick Sort is:\\t\\t\\t\")\n",
    "print(regularArray)\n",
    "quick_sortStop = timeit.default_timer()   \n"
   ]
  },
  {
   "cell_type": "code",
   "execution_count": 260,
   "metadata": {
    "colab": {
     "base_uri": "https://localhost:8080/"
    },
    "id": "Z-m77rHhUPjC",
    "outputId": "dd8d7bae-8cb5-49e3-dc4b-f0dadf6c0728"
   },
   "outputs": [
    {
     "name": "stdout",
     "output_type": "stream",
     "text": [
      "Sorted array by 3-Way Quick Sort is:\t\t\t\n",
      "[139, 153, 163, 334, 912]\n"
     ]
    }
   ],
   "source": [
    "# 3-Way Quick Sort Run\n",
    "quickSortstart = timeit.default_timer()\n",
    "quicksort(threeWayQSArray,0,len(threeWayQSArray) - 1)\n",
    "print (\"Sorted array by 3-Way Quick Sort is:\\t\\t\\t\")\n",
    "print(threeWayQSArray)\n",
    "quickSortstop = timeit.default_timer()   "
   ]
  },
  {
   "cell_type": "code",
   "execution_count": 261,
   "metadata": {
    "colab": {
     "base_uri": "https://localhost:8080/"
    },
    "id": "5BeXZzNcUUau",
    "outputId": "2fd0f2b5-4e90-4066-d0f6-e39484627f59"
   },
   "outputs": [
    {
     "name": "stdout",
     "output_type": "stream",
     "text": [
      "Sorted array by Insertion Sort is:\t\t\t\n",
      "[139, 153, 163, 334, 912]\n"
     ]
    }
   ],
   "source": [
    "# Insertion Sort Run\n",
    "insertionSortstart = timeit.default_timer()\n",
    "insertionSort(insertionSortArray)\n",
    "print (\"Sorted array by Insertion Sort is:\\t\\t\\t\")\n",
    "print(insertionSortArray)\n",
    "insertionSortstop = timeit.default_timer()   "
   ]
  },
  {
   "cell_type": "code",
   "execution_count": 262,
   "metadata": {
    "colab": {
     "base_uri": "https://localhost:8080/"
    },
    "id": "FgeP-rjrUYB7",
    "outputId": "a243ea93-b4e2-4f2f-fd6b-1ab0c69af20a"
   },
   "outputs": [
    {
     "name": "stdout",
     "output_type": "stream",
     "text": [
      "Sorted array by Selection Sort is:\t\t\t\n",
      "[139, 153, 163, 334, 912]\n"
     ]
    }
   ],
   "source": [
    "# Selection Sort Run\n",
    "selectionSortstart = timeit.default_timer()\n",
    "selectionSort(selectionSortArray)\n",
    "print (\"Sorted array by Selection Sort is:\\t\\t\\t\")\n",
    "print(selectionSortArray)\n",
    "selectionSortstop = timeit.default_timer()   "
   ]
  },
  {
   "cell_type": "code",
   "execution_count": 263,
   "metadata": {
    "colab": {
     "base_uri": "https://localhost:8080/"
    },
    "id": "xM8D7ixqUaG-",
    "outputId": "0710fbd3-11c3-4dd6-a150-29728a7164b1"
   },
   "outputs": [
    {
     "name": "stdout",
     "output_type": "stream",
     "text": [
      "Sorted array by Bubble Sort is:\t\t\t\n",
      "[139, 153, 163, 334, 912]\n"
     ]
    }
   ],
   "source": [
    "# Bubble Sort Run\n",
    "bubbleSortstart = timeit.default_timer()\n",
    "bubbleSort(bubbleSortArray)\n",
    "print (\"Sorted array by Bubble Sort is:\\t\\t\\t\")\n",
    "print(bubbleSortArray)\n",
    "bubbleSortstop = timeit.default_timer()   "
   ]
  },
  {
   "cell_type": "code",
   "execution_count": 264,
   "metadata": {
    "colab": {
     "base_uri": "https://localhost:8080/"
    },
    "id": "AHxrhuAzUcJ8",
    "outputId": "7b7ef834-f7a6-45f4-8a91-3cc3e1e6eee0"
   },
   "outputs": [
    {
     "name": "stdout",
     "output_type": "stream",
     "text": [
      "Execution Time for Merge Sort is 0.00162742199972854 seconds\n",
      "Execution Time for Heap Sort is 0.0033134229997813236 seconds\n",
      "Execution Time for Regular Quick Sort is 0.0030794340000284137 seconds\n",
      "Execution Time for 3-Way Quick Sort is 0.0029153200002838275 seconds\n",
      "Execution Time for Insertion Sort is 0.002850545999535825 seconds\n",
      "Execution Time for Selection Sort is 0.0027575400008572615 seconds\n",
      "Execution Time for Bubble Sort is 0.001974269000129425 seconds\n"
     ]
    }
   ],
   "source": [
    "print(\"Execution Time for Merge Sort is\",mergerSortstop - mergerSortstart,\"seconds\")\n",
    "print(\"Execution Time for Heap Sort is\",heapSortstop - heapSortstart,\"seconds\")\n",
    "print(\"Execution Time for Regular Quick Sort is\",quick_sortStop - quick_sortStart,\"seconds\")\n",
    "print(\"Execution Time for 3-Way Quick Sort is\",quickSortstop - quickSortstart,\"seconds\")\n",
    "print(\"Execution Time for Insertion Sort is\",insertionSortstop - insertionSortstart,\"seconds\")\n",
    "print(\"Execution Time for Selection Sort is\",selectionSortstop - selectionSortstart,\"seconds\")\n",
    "print(\"Execution Time for Bubble Sort is\",bubbleSortstop - bubbleSortstart,\"seconds\")"
   ]
  },
  {
   "cell_type": "code",
   "execution_count": 265,
   "metadata": {
    "id": "DevgdcEFLC_5"
   },
   "outputs": [],
   "source": [
    "mergeSortTime = mergerSortstop - mergerSortstart\n",
    "heapSortTime = heapSortstop - heapSortstart\n",
    "regularQuickSortTime = quick_sortStop - quick_sortStart\n",
    "threeWayQuickSortTime = quickSortstop - quickSortstart\n",
    "insertionSortTime = insertionSortstop - insertionSortstart\n",
    "selectionSortTime = selectionSortstop - selectionSortstart\n",
    "bubbleSortTime = bubbleSortstop - bubbleSortstart"
   ]
  },
  {
   "cell_type": "code",
   "execution_count": 266,
   "metadata": {
    "colab": {
     "base_uri": "https://localhost:8080/",
     "height": 951
    },
    "id": "KJ8YjthzKm6z",
    "outputId": "e90a8813-9f2d-47ff-f7c5-e5a2b2f96fce"
   },
   "outputs": [
    {
     "data": {
      "image/png": "[encoded data removed]",
      "text/plain": [
       "<Figure size 432x288 with 1 Axes>"
      ]
     },
     "metadata": {
      "needs_background": "light"
     },
     "output_type": "display_data"
    }
   ],
   "source": [
    "\n",
    "fig = plt.figure()\n",
    "ax = fig.add_axes([0,0,3,3])\n",
    "algorithmName = ['Merge Sort', 'Heap Sort', 'Regular Quick Sort', 'Three-Way Quick Sort', 'Insertion Sort', 'Selection Sort', 'Bubble Sort']\n",
    "algorithmRunTime = [mergeSortTime,heapSortTime,regularQuickSortTime,threeWayQuickSortTime,insertionSortTime,selectionSortTime,bubbleSortTime]\n",
    "plt.plot(algorithmRunTime,  marker = 'o', linestyle = 'dotted', color = 'r')\n",
    "ax.bar(algorithmName,algorithmRunTime)\n",
    "\n",
    "\n",
    "font1 = {'family':'serif','color':'darkblue','size':20}\n",
    "font2 = {'family':'serif','color':'darkred','size':15}\n",
    "\n",
    "\n",
    "plt.title(\"Sorting Algorithm versus Run Time\", fontdict = font1)\n",
    "plt.xlabel(\"Sorting Algorithms\", fontdict = font2)\n",
    "plt.ylabel(\"Run Time\", fontdict = font2)\n",
    "\n",
    "plt.show()"
   ]
  }
 ],
 "metadata": {
  "colab": {
   "collapsed_sections": [],
   "name": "sortAlgorithm.ipynb",
   "provenance": []
  },
  "kernelspec": {
   "display_name": "Python 3 (ipykernel)",
   "language": "python",
   "name": "python3"
  },
  "language_info": {
   "codemirror_mode": {
    "name": "ipython",
    "version": 3
   },
   "file_extension": ".py",
   "mimetype": "text/x-python",
   "name": "python",
   "nbconvert_exporter": "python",
   "pygments_lexer": "ipython3",
   "version": "3.10.2"
  }
 },
 "nbformat": 4,
 "nbformat_minor": 1
}
