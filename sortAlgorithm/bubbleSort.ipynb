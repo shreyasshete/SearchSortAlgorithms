{
  "nbformat": 4,
  "nbformat_minor": 0,
  "metadata": {
    "colab": {
      "name": "bubbleSort.ipynb",
      "provenance": []
    },
    "kernelspec": {
      "name": "python3",
      "display_name": "Python 3"
    },
    "language_info": {
      "name": "python"
    }
  },
  "cells": [
    {
      "cell_type": "code",
      "execution_count": null,
      "metadata": {
        "colab": {
          "base_uri": "https://localhost:8080/"
        },
        "id": "uDw-bqSRMmSV",
        "outputId": "9eaab0b1-85c8-4bcb-a0b6-884b38d30e18"
      },
      "outputs": [
        {
          "output_type": "stream",
          "name": "stdout",
          "text": [
            "Enter number of elements in the array: 5\n",
            "Do you want computer to generate the array? (Y/N): y\n",
            "[443 847 610 348 900]\n",
            "Given array is\n",
            "[443, 847, 610, 348, 900]\n",
            "\n",
            "\n",
            "Sorted array by Regular Quick Sort is:\t\t\t\n",
            "[348, 443, 610, 847, 900]\n",
            "Execution Time is 0.00017240799999740375 seconds\n"
          ]
        }
      ],
      "source": [
        "# Bubble Sort\n",
        "import sys\n",
        "from numpy import random\n",
        "import timeit\n",
        "\n",
        "def bubbleSort(arr):\n",
        "\tn = len(arr)\n",
        "\n",
        "\t# Traverse through all array elements\n",
        "\tfor i in range(n):\n",
        "\n",
        "\t\t# Last i elements are already in place\n",
        "\t\tfor j in range(0, n-i-1):\n",
        "\n",
        "\t\t\t# traverse the array from 0 to n-i-1\n",
        "\t\t\t# Swap if the element found is greater\n",
        "\t\t\t# than the next element\n",
        "\t\t\tif arr[j] > arr[j+1]:\n",
        "\t\t\t\tarr[j], arr[j+1] = arr[j+1], arr[j]\n",
        "\n",
        "\n",
        "# Main Code to pass input \n",
        "arr=[]        \n",
        "n = int(input(\"Enter number of elements in the array: \"))\n",
        "arrayPreference = input(\"Do you want computer to generate the array? (Y/N): \")\n",
        "if arrayPreference == 'Y' or arrayPreference == 'y':\n",
        "  input_List = random.randint(1000, size=(n))\n",
        "  print(input_List)\n",
        "  for i in range(0, len(input_List)):\n",
        "    ele = int(input_List[i])\n",
        "    arr.append(ele)\n",
        "elif arrayPreference == 'N' or arrayPreference == 'n':\n",
        "  print (\"Enter the array\")\n",
        "  for i in range(0, n):\n",
        "      ele = int(input())       #Input the data into the list\n",
        "      arr.append(ele)\n",
        "else:\n",
        "\tprint(\"Invalid Input!\\nStart over the program again!\")\n",
        "\tsys.exit(\"Ending Program\")\n",
        "print (\"Given array is\", end=\"\\n\")\n",
        "print(arr)\n",
        "print('\\n')\n",
        "start = timeit.default_timer()\n",
        "bubbleSort(arr)             #passing the array to be sorted through function\n",
        "print (\"Sorted array by Bubble Sort is:\\t\\t\\t\")\n",
        "print(arr)\n",
        "stop = timeit.default_timer()   \n",
        "print(\"Execution Time for Bubble Sort is\",stop - start,\"seconds\")"
      ]
    }
  ]
}