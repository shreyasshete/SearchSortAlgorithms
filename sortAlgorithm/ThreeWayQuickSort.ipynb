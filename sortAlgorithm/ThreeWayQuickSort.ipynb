{
  "nbformat": 4,
  "nbformat_minor": 0,
  "metadata": {
    "colab": {
      "name": "ThreeWayQuickSort.ipynb",
      "provenance": []
    },
    "kernelspec": {
      "name": "python3",
      "display_name": "Python 3"
    },
    "language_info": {
      "name": "python"
    }
  },
  "cells": [
    {
      "cell_type": "code",
      "execution_count": null,
      "metadata": {
        "colab": {
          "base_uri": "https://localhost:8080/"
        },
        "id": "yUjJ7hFwN1CR",
        "outputId": "1b0f866c-8976-4b44-dd3f-7c4da4738ecc"
      },
      "outputs": [
        {
          "output_type": "stream",
          "name": "stdout",
          "text": [
            "Enter number of elements in the array: 5\n",
            "Do you want computer to generate the array? (Y/N): y\n",
            "[731  52  20 502 439]\n",
            "Given array is\n",
            "[731, 52, 20, 502, 439]\n",
            "\n",
            "\n",
            "Sorted array by Three Way Quick Sort is:\t\t\t\n",
            "[20, 52, 439, 502, 731]\n",
            "Execution Time for Three Way Quick Sort is 0.00022591099998692243 seconds\n"
          ]
        }
      ],
      "source": [
        "# Three-way Quick Sort\n",
        "import sys\n",
        "from numpy import random\n",
        "import timeit\n",
        "\n",
        "def partition(arr, first, last, start, mid):\n",
        "\t\n",
        "\tpivot = arr[last]\n",
        "\tend = last\n",
        "\n",
        "\twhile (mid[0] <= end):\n",
        "\n",
        "\t\tif (arr[mid[0]] < pivot):\n",
        "\t\t\t\n",
        "\t\t\tarr[mid[0]], arr[start[0]] = arr[start[0]], arr[mid[0]]\n",
        "\t\t\t\n",
        "\t\t\tmid[0] = mid[0] + 1\n",
        "\t\t\tstart[0] = start[0] + 1\n",
        "\n",
        "\t\telif (arr[mid[0]] > pivot):\n",
        "\t\t\t\n",
        "\t\t\tarr[mid[0]], arr[end] = arr[end], arr[mid[0]]\n",
        "\t\t\t\n",
        "\t\t\tend = end - 1\n",
        "\t\t\t\n",
        "\t\telse:\n",
        "\t\t\tmid[0] = mid[0] + 1\n",
        "\n",
        "def quicksort(arr,first,last):\n",
        "\n",
        "\tif (first >= last):\n",
        "\t\treturn\n",
        "\n",
        "\tif (last == first + 1):\n",
        "\t\t\n",
        "\t\tif (arr[first] > arr[last]):\n",
        "\t\t\t\n",
        "\t\t\tarr[first], arr[last] = arr[last], arr[first]\n",
        "\t\t\t\n",
        "\t\t\treturn\n",
        "\n",
        "\tstart = [first]\n",
        "\tmid = [first]\n",
        "\n",
        "\tpartition(arr, first, last, start, mid)\n",
        "\n",
        "\tquicksort(arr, first, start[0] - 1)\n",
        "\n",
        "\tquicksort(arr, mid[0], last)\n",
        "\n",
        "\n",
        "# Main Code to pass input \n",
        "arr=[]        \n",
        "n = int(input(\"Enter number of elements in the array: \"))\n",
        "arrayPreference = input(\"Do you want computer to generate the array? (Y/N): \")\n",
        "if arrayPreference == 'Y' or arrayPreference == 'y':\n",
        "  input_List = random.randint(1000, size=(n))\n",
        "  print(input_List)\n",
        "  for i in range(0, len(input_List)):\n",
        "    ele = int(input_List[i])\n",
        "    arr.append(ele)\n",
        "elif arrayPreference == 'N' or arrayPreference == 'n':\n",
        "  print (\"Enter the array\")\n",
        "  for i in range(0, n):\n",
        "      ele = int(input())       #Input the data into the list\n",
        "      arr.append(ele)\n",
        "else:\n",
        "\tprint(\"Invalid Input!\\nStart over the program again!\")\n",
        "\tsys.exit(\"Ending Program\")\n",
        "print (\"Given array is\", end=\"\\n\")\n",
        "print(arr)\n",
        "print('\\n')\n",
        "start = timeit.default_timer()\n",
        "quicksort(arr, 0, len(arr) - 1)             #passing the array to be sorted through function\n",
        "print (\"Sorted array by Three Way Quick Sort is:\\t\\t\\t\")\n",
        "print(arr)\n",
        "stop = timeit.default_timer()   \n",
        "print(\"Execution Time for Three Way Quick Sort is\",stop - start,\"seconds\")"
      ]
    }
  ]
}