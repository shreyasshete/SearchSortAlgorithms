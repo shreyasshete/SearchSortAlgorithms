{
  "nbformat": 4,
  "nbformat_minor": 0,
  "metadata": {
    "colab": {
      "name": "MergeSort.ipynb",
      "provenance": []
    },
    "kernelspec": {
      "name": "python3",
      "display_name": "Python 3"
    },
    "language_info": {
      "name": "python"
    }
  },
  "cells": [
    {
      "cell_type": "code",
      "execution_count": null,
      "metadata": {
        "colab": {
          "base_uri": "https://localhost:8080/"
        },
        "id": "7UHRx2wMGj7q",
        "outputId": "0a352336-71bd-4d58-b829-0c815a452ac1"
      },
      "outputs": [
        {
          "name": "stdout",
          "output_type": "stream",
          "text": [
            "Enter number of elements in the array: 5\n"
          ]
        }
      ],
      "source": [
        "3# Merge Sort\n",
        "import sys\n",
        "from numpy import random\n",
        "import timeit\n",
        "#The main function to sort an array of given size using merge sort\n",
        "def mergeSort(arr):\n",
        "    if len(arr) > 1:\n",
        " \n",
        "         # Finding the middleindex of the array\n",
        "        middleindex = len(arr)//2\n",
        " \n",
        "        # Dividing the array elements into 2 halves\n",
        "        Lft = arr[:middleindex]\n",
        "        Rght = arr[middleindex:]\n",
        " \n",
        "        # Sorting the first half\n",
        "        mergeSort(Lft)\n",
        " \n",
        "        # Sorting the second half\n",
        "        mergeSort(Rght)\n",
        " \n",
        "        i = j = k = 0\n",
        " \n",
        "        # Transfer data to temporary arrays Lft[] and Rght[]\n",
        "        while i < len(Lft) and j < len(Rght):\n",
        "            if Lft[i] < Rght[j]:\n",
        "                arr[k] = Lft[i]\n",
        "                i += 1\n",
        "            else:\n",
        "                arr[k] = Rght[j]\n",
        "                j += 1\n",
        "            k += 1\n",
        " \n",
        "        # Seeing if any element was left\n",
        "        while i < len(Lft):\n",
        "            arr[k] = Lft[i]\n",
        "            i += 1\n",
        "            k += 1\n",
        " \n",
        "        while j < len(Rght):\n",
        "            arr[k] = Rght[j]\n",
        "            j += 1\n",
        "            k += 1\n",
        " \n",
        "# Main Code to pass input \n",
        "arr=[]        \n",
        "n = int(input(\"Enter number of elements in the array: \"))\n",
        "arrayPreference = input(\"Do you want computer to generate the array? (Y/N): \")\n",
        "if arrayPreference == 'Y' or arrayPreference == 'y':\n",
        "  input_List = random.randint(1000, size=(n))\n",
        "  print(input_List)\n",
        "  for i in range(0, len(input_List)):\n",
        "    ele = int(input_List[i])\n",
        "    arr.append(ele)\n",
        "elif arrayPreference == 'N' or arrayPreference == 'n':\n",
        "  print (\"Enter the array\")\n",
        "  for i in range(0, n):\n",
        "      ele = int(input())       #Input the data into the list\n",
        "      arr.append(ele)\n",
        "else:\n",
        "\tprint(\"Invalid Input!\\nStart over the program again!\")\n",
        "\tsys.exit(\"Ending Program\")\n",
        "print (\"Given array is\", end=\"\\n\")\n",
        "print(arr)\n",
        "print('\\n')\n",
        "start = timeit.default_timer()\n",
        "mergeSort(arr)             #passing the array to be sorted through function\n",
        "print (\"Sorted array by Merge Sort is:\\t\\t\\t\")\n",
        "print(arr)\n",
        "stop = timeit.default_timer()   \n",
        "print(\"Execution Time for Merge Sort is\",stop - start,\"seconds\")"
      ]
    }
  ]
}