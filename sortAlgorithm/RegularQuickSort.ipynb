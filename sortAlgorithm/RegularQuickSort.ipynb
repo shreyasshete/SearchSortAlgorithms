{
  "nbformat": 4,
  "nbformat_minor": 0,
  "metadata": {
    "colab": {
      "name": "RegularQuickSort.ipynb",
      "provenance": [],
      "collapsed_sections": []
    },
    "kernelspec": {
      "name": "python3",
      "display_name": "Python 3"
    },
    "language_info": {
      "name": "python"
    }
  },
  "cells": [
    {
      "cell_type": "code",
      "execution_count": null,
      "metadata": {
        "id": "I1s7-hdHJTAi",
        "colab": {
          "base_uri": "https://localhost:8080/"
        },
        "outputId": "05f374ee-bb41-4895-b1aa-f1b0ec5ebdcb"
      },
      "outputs": [
        {
          "output_type": "stream",
          "name": "stdout",
          "text": [
            "Enter number of elements in the array: 5\n",
            "Do you want computer to generate the array? (Y/N): Y\n",
            "[885 350 959 379 928]\n",
            "Given array is\n",
            "[885, 350, 959, 379, 928]\n",
            "\n",
            "\n",
            "Sorted array by Regular Quick Sort is:\t\t\t\n",
            "[350, 379, 885, 928, 959]\n",
            "Execution Time is 0.001099054999940563 seconds\n"
          ]
        }
      ],
      "source": [
        "# Regular Quick Sort\n",
        "import sys\n",
        "from numpy import random\n",
        "import timeit\n",
        "\n",
        "def partition(array, low, high):\n",
        "  pivot = array[high]\n",
        "  i = low - 1\n",
        "  for j in range(low, high):\n",
        "\t  if array[j] <= pivot:\n",
        "\t    i = i + 1\n",
        "\t    (array[i], array[j]) = (array[j], array[i])\n",
        "  (array[i + 1], array[high]) = (array[high], array[i + 1])\n",
        "  return i + 1\n",
        "def quick_sort(array, low, high):\n",
        "  if low < high:\n",
        "\t  pi = partition(array, low, high)\n",
        "\t  quick_sort(array, low, pi - 1)\n",
        "\t  quick_sort(array, pi + 1, high)\n",
        "\n",
        "# Main Code to pass input \n",
        "arr=[]        \n",
        "n = int(input(\"Enter number of elements in the array: \"))\n",
        "arrayPreference = input(\"Do you want computer to generate the array? (Y/N): \")\n",
        "if arrayPreference == 'Y' or arrayPreference == 'y':\n",
        "  input_List = random.randint(1000, size=(n))\n",
        "  print(input_List)\n",
        "  for i in range(0, len(input_List)):\n",
        "    ele = int(input_List[i])\n",
        "    arr.append(ele)\n",
        "elif arrayPreference == 'N' or arrayPreference == 'n':\n",
        "  print (\"Enter the array\")\n",
        "  for i in range(0, n):\n",
        "      ele = int(input())       #Input the data into the list\n",
        "      arr.append(ele)\n",
        "else:\n",
        "\tprint(\"Invalid Input!\\nStart over the program again!\")\n",
        "\tsys.exit(\"Ending Program\")\n",
        "print (\"Given array is\", end=\"\\n\")\n",
        "print(arr)\n",
        "print('\\n')\n",
        "start = timeit.default_timer()\n",
        "quick_sort(arr, 0, len(arr) - 1)             #passing the array to be sorted through function\n",
        "print (\"Sorted array by Regular Quick Sort is:\\t\\t\\t\")\n",
        "print(arr)\n",
        "stop = timeit.default_timer()   \n",
        "print(\"Execution Time for Regular Quick Sort is\",stop - start,\"seconds\")"
      ]
    }
  ]
}