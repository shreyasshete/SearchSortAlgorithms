{
  "nbformat": 4,
  "nbformat_minor": 0,
  "metadata": {
    "colab": {
      "name": "HeapSort.ipynb",
      "provenance": []
    },
    "kernelspec": {
      "name": "python3",
      "display_name": "Python 3"
    },
    "language_info": {
      "name": "python"
    }
  },
  "cells": [
    {
      "cell_type": "code",
      "execution_count": null,
      "metadata": {
        "colab": {
          "base_uri": "https://localhost:8080/"
        },
        "id": "CQCejeRcITCU",
        "outputId": "3339a7a0-a312-440a-86db-82654954a343"
      },
      "outputs": [
        {
          "output_type": "stream",
          "name": "stdout",
          "text": [
            "Enter number of elements in the array: 5\n",
            "Do you want computer to generate the array? (Y/N): y\n",
            "[444 805 305 934 978]\n",
            "Given array is\n",
            "[444, 805, 305, 934, 978]\n",
            "\n",
            "\n",
            "Sorted array by Regular Quick Sort is:\t\t\t\n",
            "[305, 444, 805, 934, 978]\n",
            "Execution Time is 0.0005251139999984389 seconds\n"
          ]
        }
      ],
      "source": [
        "# Heap Sort\n",
        "import sys\n",
        "from numpy import random\n",
        "import timeit\n",
        "\n",
        "def heapify(arr, n, i):\n",
        "\tlargest = i # Initialize largest as root\n",
        "\tl = 2 * i + 1\t # left = 2*i + 1\n",
        "\tr = 2 * i + 2\t # right = 2*i + 2\n",
        "\n",
        "\t# See if left child of root exists and is\n",
        "\t# greater than root\n",
        "\tif l < n and arr[i] < arr[l]:\n",
        "\t\tlargest = l\n",
        "\n",
        "\t# See if right child of root exists and is\n",
        "\t# greater than root\n",
        "\tif r < n and arr[largest] < arr[r]:\n",
        "\t\tlargest = r\n",
        "\n",
        "\t# Change root, if needed\n",
        "\tif largest != i:\n",
        "\t\tarr[i],arr[largest] = arr[largest],arr[i] # swap\n",
        "\n",
        "\t\t# Heapify the root.\n",
        "\t\theapify(arr, n, largest)\n",
        "\n",
        "# The main function to sort an array of given size\n",
        "def heapSort(arr):\n",
        "\tn = len(arr)\n",
        "\n",
        "\t# Build a maxheap.\n",
        "\t# Since last parent will be at ((n//2)-1) we can start at that location.\n",
        "\tfor i in range(n // 2 - 1, -1, -1):\n",
        "\t\theapify(arr, n, i)\n",
        "\n",
        "\t# One by one extract elements\n",
        "\tfor i in range(n-1, 0, -1):\n",
        "\t\tarr[i], arr[0] = arr[0], arr[i] # swap\n",
        "\t\theapify(arr, i, 0)\n",
        "\n",
        "# Main Code to pass input \n",
        "arr=[]        \n",
        "n = int(input(\"Enter number of elements in the array: \"))\n",
        "arrayPreference = input(\"Do you want computer to generate the array? (Y/N): \")\n",
        "if arrayPreference == 'Y' or arrayPreference == 'y':\n",
        "  input_List = random.randint(1000, size=(n))\n",
        "  print(input_List)\n",
        "  for i in range(0, len(input_List)):\n",
        "    ele = int(input_List[i])\n",
        "    arr.append(ele)\n",
        "elif arrayPreference == 'N' or arrayPreference == 'n':\n",
        "  print (\"Enter the array\")\n",
        "  for i in range(0, n):\n",
        "      ele = int(input())       #Input the data into the list\n",
        "      arr.append(ele)\n",
        "else:\n",
        "\tprint(\"Invalid Input!\\nStart over the program again!\")\n",
        "\tsys.exit(\"Ending Program\")\n",
        "print (\"Given array is\", end=\"\\n\")\n",
        "print(arr)\n",
        "print('\\n')\n",
        "start = timeit.default_timer()\n",
        "heapSort(arr)             #passing the array to be sorted through function\n",
        "print (\"Sorted array by Heap Sort is:\\t\\t\\t\")\n",
        "print(arr)\n",
        "stop = timeit.default_timer()   \n",
        "print(\"Execution Time for Heap Sort is\",stop - start,\"seconds\")"
      ]
    }
  ]
}