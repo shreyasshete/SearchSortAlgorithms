{
  "nbformat": 4,
  "nbformat_minor": 0,
  "metadata": {
    "colab": {
      "name": "SelectionSort.ipynb",
      "provenance": []
    },
    "kernelspec": {
      "name": "python3",
      "display_name": "Python 3"
    },
    "language_info": {
      "name": "python"
    }
  },
  "cells": [
    {
      "cell_type": "code",
      "execution_count": null,
      "metadata": {
        "colab": {
          "base_uri": "https://localhost:8080/"
        },
        "id": "-USHX3lZLSdk",
        "outputId": "932d8979-077c-4152-ac7d-a0c5240e390f"
      },
      "outputs": [
        {
          "output_type": "stream",
          "name": "stdout",
          "text": [
            "Enter number of elements in the array: 5\n",
            "Do you want computer to generate the array? (Y/N): y\n",
            "[733 617 114 311 226]\n",
            "Given array is\n",
            "[733, 617, 114, 311, 226]\n",
            "\n",
            "\n",
            "Sorted array by Selection Sort is:\t\t\t\n",
            "[114, 226, 311, 617, 733]\n",
            "Execution Time for Selection Sort is 0.000918094999974528 seconds\n"
          ]
        }
      ],
      "source": [
        "# Selection Sort\n",
        "import sys\n",
        "from numpy import random\n",
        "import timeit\n",
        "\n",
        "def selectionSort(arr):\n",
        "  # Traverse through all array elements\n",
        "  for i in range(len(arr)):\n",
        "\n",
        "\t  min_idx = i\n",
        "\t  for j in range(i+1, len(arr)):\n",
        "\t\t  if arr[min_idx] > arr[j]:\n",
        "\t\t\t  min_idx = j\n",
        "\t\t\t\t\n",
        "\t  arr[i], arr[min_idx] = arr[min_idx], arr[i]\n",
        "\n",
        "# Main Code to pass input \n",
        "arr=[]        \n",
        "n = int(input(\"Enter number of elements in the array: \"))\n",
        "arrayPreference = input(\"Do you want computer to generate the array? (Y/N): \")\n",
        "if arrayPreference == 'Y' or arrayPreference == 'y':\n",
        "  input_List = random.randint(1000, size=(n))\n",
        "  print(input_List)\n",
        "  for i in range(0, len(input_List)):\n",
        "    ele = int(input_List[i])\n",
        "    arr.append(ele)\n",
        "elif arrayPreference == 'N' or arrayPreference == 'n':\n",
        "  print (\"Enter the array\")\n",
        "  for i in range(0, n):\n",
        "      ele = int(input())       #Input the data into the list\n",
        "      arr.append(ele)\n",
        "else:\n",
        "\tprint(\"Invalid Input!\\nStart over the program again!\")\n",
        "\tsys.exit(\"Ending Program\")\n",
        "print (\"Given array is\", end=\"\\n\")\n",
        "print(arr)\n",
        "print('\\n')\n",
        "start = timeit.default_timer()\n",
        "selectionSort(arr)             #passing the array to be sorted through function\n",
        "print (\"Sorted array by Selection Sort is:\\t\\t\\t\")\n",
        "print(arr)\n",
        "stop = timeit.default_timer()   \n",
        "print(\"Execution Time for Selection Sort is\",stop - start,\"seconds\")"
      ]
    }
  ]
}