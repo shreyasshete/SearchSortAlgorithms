{
  "nbformat": 4,
  "nbformat_minor": 0,
  "metadata": {
    "colab": {
      "name": "InsertionSort.ipynb",
      "provenance": []
    },
    "kernelspec": {
      "name": "python3",
      "display_name": "Python 3"
    },
    "language_info": {
      "name": "python"
    }
  },
  "cells": [
    {
      "cell_type": "code",
      "execution_count": null,
      "metadata": {
        "colab": {
          "base_uri": "https://localhost:8080/"
        },
        "id": "TvaIYuSkIB1L",
        "outputId": "efd40566-4c40-47f0-c24f-72fdc932d866"
      },
      "outputs": [
        {
          "output_type": "stream",
          "name": "stdout",
          "text": [
            "Enter number of elements : 5\n",
            "Enter the array\n",
            "15\n",
            "11\n",
            "12\n",
            "19\n",
            "10\n",
            "Given array is\n",
            "[15, 11, 12, 19, 10]\n",
            "\n",
            "\n",
            "Sorted array by InsertionSort is:\t\t\t\n",
            "[10, 11, 12, 15, 19]\n",
            "Execution Time is 0.00012609000000907145 seconds\n"
          ]
        }
      ],
      "source": [
        "# Insertion Sort\n",
        "import sys\n",
        "from numpy import random\n",
        "import timeit\n",
        "\n",
        "def insertionSort(arr):\n",
        " \n",
        "    for i in range(1, len(arr)):\n",
        " \n",
        "        key = arr[i]\n",
        "        j = i-1\n",
        "        while j >= 0 and key < arr[j] :\n",
        "                arr[j + 1] = arr[j]\n",
        "                j -= 1\n",
        "        arr[j + 1] = key\n",
        " \n",
        " \n",
        "# Main Code to pass input \n",
        "arr=[]        \n",
        "n = int(input(\"Enter number of elements in the array: \"))\n",
        "arrayPreference = input(\"Do you want computer to generate the array? (Y/N): \")\n",
        "if arrayPreference == 'Y' or arrayPreference == 'y':\n",
        "  input_List = random.randint(1000, size=(n))\n",
        "  print(input_List)\n",
        "  for i in range(0, len(input_List)):\n",
        "    ele = int(input_List[i])\n",
        "    arr.append(ele)\n",
        "elif arrayPreference == 'N' or arrayPreference == 'n':\n",
        "  print (\"Enter the array\")\n",
        "  for i in range(0, n):\n",
        "      ele = int(input())       #Input the data into the list\n",
        "      arr.append(ele)\n",
        "else:\n",
        "\tprint(\"Invalid Input!\\nStart over the program again!\")\n",
        "\tsys.exit(\"Ending Program\")\n",
        "print (\"Given array is\", end=\"\\n\")\n",
        "print(arr)\n",
        "print('\\n')\n",
        "start = timeit.default_timer()\n",
        "insertionSort(arr)             #passing the array to be sorted through function\n",
        "print (\"Sorted array by Insertion Sort is:\\t\\t\\t\")\n",
        "print(arr)\n",
        "stop = timeit.default_timer()   \n",
        "print(\"Execution Time for Insertion Sort is\",stop - start,\"seconds\")"
      ]
    }
  ]
}